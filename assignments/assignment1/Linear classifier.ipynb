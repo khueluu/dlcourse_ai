{
 "cells": [
  {
   "cell_type": "markdown",
   "metadata": {},
   "source": [
    "# Task 1.2 - Linear classifier\n",
    "\n",
    "In this task, we will implement another machine learning model - a linear classifier. The linear classifier selects weights for each class, by which the value of each attribute must be multiplied and then added together.\n",
    "The class for which this sum is greater is the prediction of the model.\n",
    "\n",
    "In this assignment, you:\n",
    "- practice calculating gradients of various multidimensional functions\n",
    "- implement the calculation of gradients through the linear model and the softmax loss function\n",
    "- implement the process of training a linear classifier\n",
    "- select training parameters in practice\n",
    "\n",
    "Just in case, once again the link to the numpy tutorial:\n",
    "http://cs231n.github.io/python-numpy-tutorial/"
   ]
  },
  {
   "cell_type": "code",
   "execution_count": 1,
   "metadata": {},
   "outputs": [],
   "source": [
    "import numpy as np\n",
    "import matplotlib.pyplot as plt\n",
    "\n",
    "%matplotlib inline\n",
    "\n",
    "%load_ext autoreload\n",
    "%autoreload 2"
   ]
  },
  {
   "cell_type": "code",
   "execution_count": 2,
   "metadata": {},
   "outputs": [],
   "source": [
    "from dataset import load_svhn, random_split_train_val\n",
    "from gradient_check import check_gradient\n",
    "from metrics import multiclass_accuracy \n",
    "import linear_classifer"
   ]
  },
  {
   "cell_type": "markdown",
   "metadata": {},
   "source": [
    "# As always, the first thing to do is load the data\n",
    "\n",
    "We will use the same SVHN."
   ]
  },
  {
   "cell_type": "code",
   "execution_count": 3,
   "metadata": {},
   "outputs": [],
   "source": [
    "def prepare_for_linear_classifier(train_X, test_X):\n",
    "    train_flat = train_X.reshape(train_X.shape[0], -1).astype(np.float) / 255.0\n",
    "    test_flat = test_X.reshape(test_X.shape[0], -1).astype(np.float) / 255.0\n",
    "    \n",
    "    # Subtract mean\n",
    "    mean_image = np.mean(train_flat, axis = 0)\n",
    "    train_flat -= mean_image\n",
    "    test_flat -= mean_image\n",
    "    \n",
    "    # Add another channel with ones as a bias term\n",
    "    train_flat_with_ones = np.hstack([train_flat, np.ones((train_X.shape[0], 1))])\n",
    "    test_flat_with_ones = np.hstack([test_flat, np.ones((test_X.shape[0], 1))])    \n",
    "    return train_flat_with_ones, test_flat_with_ones\n",
    "    \n",
    "train_X, train_y, test_X, test_y = load_svhn(\"data\", max_train=10000, max_test=1000)    \n",
    "train_X, test_X = prepare_for_linear_classifier(train_X, test_X)\n",
    "# Split train into train and val\n",
    "train_X, train_y, val_X, val_y = random_split_train_val(train_X, train_y, num_val = 1000)"
   ]
  },
  {
   "cell_type": "markdown",
   "metadata": {},
   "source": [
    "# Play with gradients!\n",
    "\n",
    "In this course, we will write many functions that calculate gradients analytically.\n",
    "\n",
    "All functions in which we will calculate gradients will be written according to the same scheme.\n",
    "They will receive at the input the point where the value and the gradient of the function need to be calculated, and at the output they will produce a tuple of two values ​​- the actual value of the function at this point (always one number) and the analytical value of the gradient at the same point (the same dimension as the input).\n",
    "``,\n",
    "def f (x):\n",
    "    \"\" \"\n",
    "    Computes function and analytic gradient at x\n",
    "    \n",
    "    x: np array of float, input to the function\n",
    "    \n",
    "    Returns:\n",
    "    value: float, value of the function\n",
    "    grad: np array of float, same shape as x\n",
    "    \"\" \"\n",
    "    ...\n",
    "    \n",
    "    return value, grad\n",
    "``,\n",
    "\n",
    "A necessary tool during the implementation of code that calculates gradients is the function of its validation. This function computes the gradient numerically and compares the result with the analytically computed gradient.\n",
    "\n",
    "We start by implementing the numeric gradient computation in the check_gradient function in gradient_check.py. This function will take as input to the function of the format specified above, use the value `value` to calculate the numerical gradient and compare it with the analytical one - they should converge.\n",
    "\n",
    "Write a part of a function that calculates the gradient using the numerical derivative for each coordinate. To calculate the derivative, use the so-called two-point formula (https://en.wikipedia.org/wiki/Numerical_differentiation):\n",
    "\n",
    "![image](https://wikimedia.org/api/rest_v1/media/math/render/svg/22fc2c0a66c63560a349604f8b6b39221566236d)\n",
    "\n",
    "All functions shown in the next cell must pass the gradient check."
   ]
  },
  {
   "cell_type": "code",
   "execution_count": 19,
   "metadata": {
    "scrolled": true
   },
   "outputs": [
    {
     "name": "stdout",
     "output_type": "stream",
     "text": [
      "Gradient check passed!\n",
      "Gradient check passed!\n",
      "Gradient check passed!\n"
     ]
    },
    {
     "data": {
      "text/plain": [
       "True"
      ]
     },
     "execution_count": 19,
     "metadata": {},
     "output_type": "execute_result"
    }
   ],
   "source": [
    "# TODO: Implement check_gradient function in gradient_check.py\n",
    "# All the functions below should pass the gradient check\n",
    "\n",
    "def square(x):\n",
    "    return float(x*x), 2*x\n",
    "\n",
    "check_gradient(square, np.array([3.0]))\n",
    "\n",
    "def array_sum(x):\n",
    "    assert x.shape == (2,), x.shape\n",
    "    return np.sum(x), np.ones_like(x)\n",
    "\n",
    "check_gradient(array_sum, np.array([3.0, 2.0]))\n",
    "\n",
    "def array_2d_sum(x):\n",
    "    assert x.shape == (2,2)\n",
    "    return np.sum(x), np.ones_like(x)\n",
    "\n",
    "check_gradient(array_2d_sum, np.array([[3.0, 2.0], [1.0, 0.0]]))"
   ]
  },
  {
   "cell_type": "markdown",
   "metadata": {},
   "source": [
    "## Let's start writing our functions that calculate the analytical gradient\n",
    "\n",
    "Now let's implement the softmax function, which receives the estimates for each class as input and converts them into probabilities from 0 to 1:\n",
    "![image](https://wikimedia.org/api/rest_v1/media/math/render/svg/e348290cf48ddbb6e9a6ef4e39363568b67c09d3)\n",
    "\n",
    "** Important: ** The practical aspect of calculating this function is that it calculates the exponent of potentially very large numbers - this can lead to very large values ​​in the numerator and denominator outside the float range.\n",
    "\n",
    "Fortunately, there is a simple solution to this problem - before calculating the softmax, subtract from all estimates the maximum value among all estimates:\n",
    "``,\n",
    "predictions - = np.max (predictions)\n",
    "``,\n",
    "(more details here - http://cs231n.github.io/linear-classify/#softmax, section `Practical issues: Numeric stability`)"
   ]
  },
  {
   "cell_type": "code",
   "execution_count": 21,
   "metadata": {},
   "outputs": [],
   "source": [
    "# TODO Implement softmax and cross-entropy for single sample\n",
    "probs = linear_classifer.softmax(np.array([-10, 0, 10]))\n",
    "\n",
    "# Make sure it works for big numbers too!\n",
    "probs = linear_classifer.softmax(np.array([1000, 0, 0]))\n",
    "assert np.isclose(probs[0], 1.0)"
   ]
  },
  {
   "cell_type": "markdown",
   "metadata": {},
   "source": [
    "In addition, we will implement a cross-entropy loss, which we will use as an error function.\n",
    "In general, cross-entropy is defined as follows:\n",
    "![image](https://wikimedia.org/api/rest_v1/media/math/render/svg/0cb6da032ab424eefdca0884cd4113fe578f4293)\n",
    "\n",
    "where x are all classes, p (x) is the true probability of the sample belonging to the class x, and q (x) is the probability of belonging to the class x, as predicted by the model.\n",
    "In our case, the sample belongs to only one class, the index of which is passed to the function. For it, p (x) is equal to 1, and for the rest of the classes - 0.\n",
    "\n",
    "This makes the function easier to implement!"
   ]
  },
  {
   "cell_type": "code",
   "execution_count": 23,
   "metadata": {},
   "outputs": [
    {
     "data": {
      "text/plain": [
       "5.006760443547122"
      ]
     },
     "execution_count": 23,
     "metadata": {},
     "output_type": "execute_result"
    }
   ],
   "source": [
    "probs = linear_classifer.softmax(np.array([-5, 0, 5]))\n",
    "linear_classifer.cross_entropy_loss(probs, 1)"
   ]
  },
  {
   "cell_type": "markdown",
   "metadata": {},
   "source": [
    "After we have implemented the functions themselves, we can implement the gradient.\n",
    "\n",
    "It turns out that calculating the gradient becomes much easier if you combine these functions into one, which first calculates the probabilities through softmax, and then uses them to calculate the error function through cross-entropy loss.\n",
    "\n",
    "This softmax_with_cross_entropy function will return both the error value and the gradient across the input parameters. We will check the correctness of the implementation with `check_gradient`."
   ]
  },
  {
   "cell_type": "code",
   "execution_count": null,
   "metadata": {},
   "outputs": [],
   "source": [
    "# TODO Implement combined function or softmax and cross entropy and produces gradient\n",
    "loss, grad = linear_classifer.softmax_with_cross_entropy(np.array([1, 0, 0]), 1)\n",
    "check_gradient(lambda x: linear_classifer.softmax_with_cross_entropy(x, 1), np.array([1, 0, 0], np.float))"
   ]
  },
  {
   "cell_type": "markdown",
   "metadata": {},
   "source": [
    "As a training method, we will use stochastic gradient descent (SGD), which works with sample batches.\n",
    "\n",
    "Therefore, all our functions will receive not one example, but a batch, that is, the input will not be a vector from `num_classes` evaluations, but a matrix of dimensions` batch_size, num_classes`. The index of the example in the batch will always be the first dimension.\n",
    "\n",
    "The next step is to rewrite our functions to support batches.\n",
    "\n",
    "The final value of the error function must remain a number, and it is equal to the average error value among all examples in the batch."
   ]
  },
  {
   "cell_type": "code",
   "execution_count": 24,
   "metadata": {},
   "outputs": [
    {
     "name": "stdout",
     "output_type": "stream",
     "text": [
      "Gradient check passed!\n",
      "Gradient check passed!\n"
     ]
    }
   ],
   "source": [
    "# TODO Extend combined function so it can receive a 2d array with batch of samples\n",
    "np.random.seed(42)\n",
    "# Test batch_size = 1\n",
    "num_classes = 4\n",
    "batch_size = 1\n",
    "predictions = np.random.randint(-1, 3, size=(batch_size, num_classes)).astype(np.float)\n",
    "target_index = np.random.randint(0, num_classes, size=(batch_size, 1)).astype(np.int)\n",
    "check_gradient(lambda x: linear_classifer.softmax_with_cross_entropy(x, target_index), predictions)\n",
    "\n",
    "# Test batch_size = 3\n",
    "num_classes = 4\n",
    "batch_size = 3\n",
    "predictions = np.random.randint(-1, 3, size=(batch_size, num_classes)).astype(np.float)\n",
    "target_index = np.random.randint(0, num_classes, size=(batch_size, 1)).astype(np.int)\n",
    "check_gradient(lambda x: linear_classifer.softmax_with_cross_entropy(x, target_index), predictions)\n",
    "\n",
    "# Make sure maximum subtraction for numberic stability is done separately for every sample in the batch\n",
    "probs = linear_classifer.softmax(np.array([[20,0,0], [1000, 0, 0]]))\n",
    "assert np.all(np.isclose(probs[:, 0], 1.0))"
   ]
  },
  {
   "cell_type": "markdown",
   "metadata": {},
   "source": [
    "### Finally, let's implement the linear classifier itself!\n",
    "\n",
    "softmax and cross-entropy receive estimates as input, which are given by the linear classifier.\n",
    "\n",
    "He makes it very simple: for each class there is a set of weights by which the pixels of the picture must be multiplied and added. The resulting number is the class estimate that goes to the softmax input.\n",
    "\n",
    "Thus, a linear classifier can be represented as the multiplication of a vector with pixels by a matrix W of size `num_features, num_classes`. This approach can be easily extended to the case of batch vectors with X pixels of size `batch_size, num_features`:\n",
    "\n",
    "`predictions = X * W`, where` * `is matrix multiplication.\n",
    "\n",
    "Implement the `linear_softmax` function for calculating the linear classifier and weighted gradients in the file` linear_classifer.py`"
   ]
  },
  {
   "cell_type": "code",
   "execution_count": 25,
   "metadata": {},
   "outputs": [
    {
     "name": "stdout",
     "output_type": "stream",
     "text": [
      "Gradient check passed!\n"
     ]
    },
    {
     "data": {
      "text/plain": [
       "True"
      ]
     },
     "execution_count": 25,
     "metadata": {},
     "output_type": "execute_result"
    }
   ],
   "source": [
    "# TODO Implement linear_softmax function that uses softmax with cross-entropy for linear classifier\n",
    "batch_size = 2\n",
    "num_classes = 2\n",
    "num_features = 3\n",
    "np.random.seed(42)\n",
    "W = np.random.randint(-1, 3, size=(num_features, num_classes)).astype(np.float)\n",
    "X = np.random.randint(-1, 3, size=(batch_size, num_features)).astype(np.float)\n",
    "target_index = np.ones(batch_size, dtype=np.int)\n",
    "\n",
    "loss, dW = linear_classifer.linear_softmax(X, W, target_index)\n",
    "check_gradient(lambda w: linear_classifer.linear_softmax(X, w, target_index), W)"
   ]
  },
  {
   "cell_type": "markdown",
   "metadata": {},
   "source": [
    "### And now regularization\n",
    "\n",
    "We will use L2 regularization for the weights as part of the overall error function.\n",
    "\n",
    "Recall that L2 regularization is defined as\n",
    "\n",
    "l2_reg_loss = regularization_strength * sum <sub> ij </sub> W [i, j] <sup> 2 </sup>\n",
    "\n",
    "Implement a function to compute it and compute the appropriate gradients."
   ]
  },
  {
   "cell_type": "code",
   "execution_count": 38,
   "metadata": {},
   "outputs": [
    {
     "name": "stdout",
     "output_type": "stream",
     "text": [
      "Gradient check passed!\n"
     ]
    },
    {
     "data": {
      "text/plain": [
       "True"
      ]
     },
     "execution_count": 38,
     "metadata": {},
     "output_type": "execute_result"
    }
   ],
   "source": [
    "# TODO Implement l2_regularization function that implements loss for L2 regularization\n",
    "linear_classifer.l2_regularization(W, 0.01)\n",
    "check_gradient(lambda w: linear_classifer.l2_regularization(w, 0.01), W)"
   ]
  },
  {
   "cell_type": "markdown",
   "metadata": {},
   "source": [
    "# Workout!"
   ]
  },
  {
   "cell_type": "markdown",
   "metadata": {},
   "source": [
    "The gradients are in order, let's implement the training process!"
   ]
  },
  {
   "cell_type": "code",
   "execution_count": 39,
   "metadata": {},
   "outputs": [
    {
     "name": "stdout",
     "output_type": "stream",
     "text": [
      "Epoch 0, loss: 691.077785\n",
      "Epoch 1, loss: 712.749169\n",
      "Epoch 2, loss: 721.845799\n",
      "Epoch 3, loss: 715.038916\n",
      "Epoch 4, loss: 710.684216\n",
      "Epoch 5, loss: 772.027078\n",
      "Epoch 6, loss: 865.797149\n",
      "Epoch 7, loss: 878.524957\n",
      "Epoch 8, loss: 895.171605\n",
      "Epoch 9, loss: 883.155392\n"
     ]
    }
   ],
   "source": [
    "# TODO: Implement LinearSoftmaxClassifier.fit function\n",
    "classifier = linear_classifer.LinearSoftmaxClassifier()\n",
    "loss_history = classifier.fit(train_X, train_y, epochs=10, learning_rate=1e-3, batch_size=300, reg=1e1, verbose=1)"
   ]
  },
  {
   "cell_type": "code",
   "execution_count": 40,
   "metadata": {},
   "outputs": [
    {
     "data": {
      "text/plain": [
       "[<matplotlib.lines.Line2D at 0x7fb2a98093a0>]"
      ]
     },
     "execution_count": 40,
     "metadata": {},
     "output_type": "execute_result"
    },
    {
     "data": {
      "image/png": "[encoded data removed]",
      "text/plain": [
       "<Figure size 432x288 with 1 Axes>"
      ]
     },
     "metadata": {
      "needs_background": "light"
     },
     "output_type": "display_data"
    }
   ],
   "source": [
    "# let's look at the loss history!\n",
    "plt.plot(loss_history)"
   ]
  },
  {
   "cell_type": "code",
   "execution_count": 41,
   "metadata": {},
   "outputs": [
    {
     "name": "stdout",
     "output_type": "stream",
     "text": [
      "Accuracy:  0.144\n",
      "Epoch 0, loss: 928.421367\n",
      "Epoch 1, loss: 892.918940\n",
      "Epoch 2, loss: 779.946284\n",
      "Epoch 3, loss: 748.959377\n",
      "Epoch 4, loss: 721.792371\n",
      "Epoch 5, loss: 749.993731\n",
      "Epoch 6, loss: 808.052565\n",
      "Epoch 7, loss: 893.858597\n",
      "Epoch 8, loss: 761.667346\n",
      "Epoch 9, loss: 732.110171\n",
      "Epoch 10, loss: 764.896584\n",
      "Epoch 11, loss: 822.292666\n",
      "Epoch 12, loss: 837.657406\n",
      "Epoch 13, loss: 794.137673\n",
      "Epoch 14, loss: 762.657260\n",
      "Epoch 15, loss: 799.105739\n",
      "Epoch 16, loss: 821.750112\n",
      "Epoch 17, loss: 834.937665\n",
      "Epoch 18, loss: 961.965250\n",
      "Epoch 19, loss: 1057.538373\n",
      "Epoch 20, loss: 993.176711\n",
      "Epoch 21, loss: 845.210360\n",
      "Epoch 22, loss: 933.403822\n",
      "Epoch 23, loss: 954.427109\n",
      "Epoch 24, loss: 974.960416\n",
      "Epoch 25, loss: 879.816303\n",
      "Epoch 26, loss: 817.673254\n",
      "Epoch 27, loss: 772.010485\n",
      "Epoch 28, loss: 846.289280\n",
      "Epoch 29, loss: 918.485491\n",
      "Epoch 30, loss: 956.307776\n",
      "Epoch 31, loss: 1048.972222\n",
      "Epoch 32, loss: 830.680057\n",
      "Epoch 33, loss: 847.645747\n",
      "Epoch 34, loss: 898.785442\n",
      "Epoch 35, loss: 908.266541\n",
      "Epoch 36, loss: 1065.815542\n",
      "Epoch 37, loss: 1054.092413\n",
      "Epoch 38, loss: 797.036224\n",
      "Epoch 39, loss: 853.007231\n",
      "Epoch 40, loss: 1056.158814\n",
      "Epoch 41, loss: 781.262694\n",
      "Epoch 42, loss: 822.243782\n",
      "Epoch 43, loss: 851.709586\n",
      "Epoch 44, loss: 904.160039\n",
      "Epoch 45, loss: 788.509429\n",
      "Epoch 46, loss: 904.579533\n",
      "Epoch 47, loss: 897.834099\n",
      "Epoch 48, loss: 840.650563\n",
      "Epoch 49, loss: 845.823594\n",
      "Epoch 50, loss: 821.645579\n",
      "Epoch 51, loss: 951.463899\n",
      "Epoch 52, loss: 952.506860\n",
      "Epoch 53, loss: 890.513110\n",
      "Epoch 54, loss: 835.853571\n",
      "Epoch 55, loss: 865.995029\n",
      "Epoch 56, loss: 953.318479\n",
      "Epoch 57, loss: 728.511926\n",
      "Epoch 58, loss: 758.240747\n",
      "Epoch 59, loss: 819.868020\n",
      "Epoch 60, loss: 909.254780\n",
      "Epoch 61, loss: 913.225182\n",
      "Epoch 62, loss: 854.503942\n",
      "Epoch 63, loss: 854.296190\n",
      "Epoch 64, loss: 890.855868\n",
      "Epoch 65, loss: 1014.158191\n",
      "Epoch 66, loss: 1106.199824\n",
      "Epoch 67, loss: 957.268153\n",
      "Epoch 68, loss: 916.015081\n",
      "Epoch 69, loss: 936.095907\n",
      "Epoch 70, loss: 896.116819\n",
      "Epoch 71, loss: 831.130963\n",
      "Epoch 72, loss: 845.144261\n",
      "Epoch 73, loss: 862.572171\n",
      "Epoch 74, loss: 924.765478\n",
      "Epoch 75, loss: 944.146242\n",
      "Epoch 76, loss: 901.503518\n",
      "Epoch 77, loss: 1017.109238\n",
      "Epoch 78, loss: 955.668836\n",
      "Epoch 79, loss: 913.752116\n",
      "Epoch 80, loss: 970.836394\n",
      "Epoch 81, loss: 919.695255\n",
      "Epoch 82, loss: 893.641933\n",
      "Epoch 83, loss: 929.417188\n",
      "Epoch 84, loss: 787.949758\n",
      "Epoch 85, loss: 813.064688\n",
      "Epoch 86, loss: 720.630810\n",
      "Epoch 87, loss: 728.198767\n",
      "Epoch 88, loss: 726.012804\n",
      "Epoch 89, loss: 722.066000\n",
      "Epoch 90, loss: 809.261039\n",
      "Epoch 91, loss: 965.052863\n",
      "Epoch 92, loss: 948.555864\n",
      "Epoch 93, loss: 841.439220\n",
      "Epoch 94, loss: 1010.892037\n",
      "Epoch 95, loss: 912.154615\n",
      "Epoch 96, loss: 826.069448\n",
      "Epoch 97, loss: 880.076778\n",
      "Epoch 98, loss: 894.175813\n",
      "Epoch 99, loss: 921.670196\n",
      "Accuracy after training for 100 epochs:  0.166\n"
     ]
    }
   ],
   "source": [
    "# Let's check how it performs on validation set\n",
    "pred = classifier.predict(val_X)\n",
    "accuracy = multiclass_accuracy(pred, val_y)\n",
    "print(\"Accuracy: \", accuracy)\n",
    "\n",
    "# Now, let's train more and see if it performs better\n",
    "classifier.fit(train_X, train_y, epochs=100, learning_rate=1e-3, batch_size=300, reg=1e1, verbose=1)\n",
    "pred = classifier.predict(val_X)\n",
    "accuracy = multiclass_accuracy(pred, val_y)\n",
    "print(\"Accuracy after training for 100 epochs: \", accuracy)"
   ]
  },
  {
   "cell_type": "markdown",
   "metadata": {},
   "source": [
    "### As before, we use cross-validation to find hyperparameters.\n",
    "\n",
    "This time, we will only use one division of training and validation data to keep the training time reasonable.\n",
    "\n",
    "Now we need to select not one, but two hyperparameters! Don't limit yourself to the original values in the code.\n",
    "Achieve more than ** 20% ** accuracy on validation data."
   ]
  },
  {
   "cell_type": "code",
   "execution_count": 43,
   "metadata": {},
   "outputs": [
    {
     "name": "stdout",
     "output_type": "stream",
     "text": [
      "best validation accuracy achieved: 0.227000\n"
     ]
    }
   ],
   "source": [
    "num_epochs = 200\n",
    "batch_size = 300\n",
    "\n",
    "learning_rates = [1e-3, 1e-4, 1e-5]\n",
    "reg_strengths = [1e-4, 1e-5, 1e-6]\n",
    "\n",
    "best_classifier = None\n",
    "best_val_accuracy = 0.0\n",
    "\n",
    "# TODO use validation set to find the best hyperparameters\n",
    "# hint: for best results, you might need to try more values for learning rate and regularization strength \n",
    "# than provided initially\n",
    "\n",
    "for learning_rate in learning_rates:\n",
    "    for reg in reg_strengths:\n",
    "        classifier = linear_classifer.LinearSoftmaxClassifier()\n",
    "        classifier.fit(train_X, train_y, epochs=num_epochs,\n",
    "                       learning_rate=learning_rate, batch_size=batch_size, reg=reg)\n",
    "        pred = classifier.predict(val_X)\n",
    "        accuracy = multiclass_accuracy(pred, val_y)\n",
    "        if accuracy > best_val_accuracy:\n",
    "            best_val_accuracy = accuracy\n",
    "            best_classifier = classifier        \n",
    "\n",
    "print('best validation accuracy achieved: %f' % best_val_accuracy)"
   ]
  },
  {
   "cell_type": "markdown",
   "metadata": {},
   "source": [
    "# What accuracy did we achieve on the test data?"
   ]
  },
  {
   "cell_type": "code",
   "execution_count": 44,
   "metadata": {},
   "outputs": [
    {
     "name": "stdout",
     "output_type": "stream",
     "text": [
      "Linear softmax classifier test set accuracy: 0.176000\n"
     ]
    }
   ],
   "source": [
    "test_pred = best_classifier.predict(test_X)\n",
    "test_accuracy = multiclass_accuracy(test_pred, test_y)\n",
    "print('Linear softmax classifier test set accuracy: %f' % (test_accuracy, ))"
   ]
  },
  {
   "cell_type": "code",
   "execution_count": null,
   "metadata": {},
   "outputs": [],
   "source": []
  }
 ],
 "metadata": {
  "kernelspec": {
   "display_name": "Python 3",
   "language": "python",
   "name": "python3"
  },
  "language_info": {
   "codemirror_mode": {
    "name": "ipython",
    "version": 3
   },
   "file_extension": ".py",
   "mimetype": "text/x-python",
   "name": "python",
   "nbconvert_exporter": "python",
   "pygments_lexer": "ipython3",
   "version": "3.8.5"
  }
 },
 "nbformat": 4,
 "nbformat_minor": 4
}
