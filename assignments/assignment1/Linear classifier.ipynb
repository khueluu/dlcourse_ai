{
 "cells": [
  {
   "cell_type": "markdown",
   "metadata": {},
   "source": [
    "# Task 1.2 - Linear classifier\n",
    "\n",
    "In this task, we will implement another machine learning model - a linear classifier. The linear classifier selects weights for each class, by which the value of each attribute must be multiplied and then added together.\n",
    "The class for which this sum is greater is the prediction of the model.\n",
    "\n",
    "In this assignment, you:\n",
    "- practice calculating gradients of various multidimensional functions\n",
    "- implement the calculation of gradients through the linear model and the softmax loss function\n",
    "- implement the process of training a linear classifier\n",
    "- select training parameters in practice\n",
    "\n",
    "Just in case, once again the link to the numpy tutorial:\n",
    "http://cs231n.github.io/python-numpy-tutorial/"
   ]
  },
  {
   "cell_type": "code",
   "execution_count": 1,
   "metadata": {},
   "outputs": [],
   "source": [
    "import numpy as np\n",
    "import matplotlib.pyplot as plt\n",
    "\n",
    "%matplotlib inline\n",
    "\n",
    "%load_ext autoreload\n",
    "%autoreload 2"
   ]
  },
  {
   "cell_type": "code",
   "execution_count": 2,
   "metadata": {},
   "outputs": [],
   "source": [
    "from dataset import load_svhn, random_split_train_val\n",
    "from gradient_check import check_gradient\n",
    "from metrics import multiclass_accuracy \n",
    "import linear_classifer"
   ]
  },
  {
   "cell_type": "markdown",
   "metadata": {},
   "source": [
    "# As always, the first thing to do is load the data\n",
    "\n",
    "We will use the same SVHN."
   ]
  },
  {
   "cell_type": "code",
   "execution_count": 3,
   "metadata": {},
   "outputs": [],
   "source": [
    "def prepare_for_linear_classifier(train_X, test_X):\n",
    "    train_flat = train_X.reshape(train_X.shape[0], -1).astype(np.float) / 255.0\n",
    "    test_flat = test_X.reshape(test_X.shape[0], -1).astype(np.float) / 255.0\n",
    "    \n",
    "    # Subtract mean\n",
    "    mean_image = np.mean(train_flat, axis = 0)\n",
    "    train_flat -= mean_image\n",
    "    test_flat -= mean_image\n",
    "    \n",
    "    # Add another channel with ones as a bias term\n",
    "    train_flat_with_ones = np.hstack([train_flat, np.ones((train_X.shape[0], 1))])\n",
    "    test_flat_with_ones = np.hstack([test_flat, np.ones((test_X.shape[0], 1))])    \n",
    "    return train_flat_with_ones, test_flat_with_ones\n",
    "    \n",
    "train_X, train_y, test_X, test_y = load_svhn(\"data\", max_train=10000, max_test=1000)    \n",
    "train_X, test_X = prepare_for_linear_classifier(train_X, test_X)\n",
    "# Split train into train and val\n",
    "train_X, train_y, val_X, val_y = random_split_train_val(train_X, train_y, num_val = 1000)"
   ]
  },
  {
   "cell_type": "markdown",
   "metadata": {},
   "source": [
    "# Play with gradients!\n",
    "\n",
    "In this course, we will write many functions that calculate gradients analytically.\n",
    "\n",
    "All functions in which we will calculate gradients will be written according to the same scheme.\n",
    "They will receive at the input the point where the value and the gradient of the function need to be calculated, and at the output they will produce a tuple of two values ​​- the actual value of the function at this point (always one number) and the analytical value of the gradient at the same point (the same dimension as the input).\n",
    "``,\n",
    "def f (x):\n",
    "    \"\" \"\n",
    "    Computes function and analytic gradient at x\n",
    "    \n",
    "    x: np array of float, input to the function\n",
    "    \n",
    "    Returns:\n",
    "    value: float, value of the function\n",
    "    grad: np array of float, same shape as x\n",
    "    \"\" \"\n",
    "    ...\n",
    "    \n",
    "    return value, grad\n",
    "``,\n",
    "\n",
    "A necessary tool during the implementation of code that calculates gradients is the function of its validation. This function computes the gradient numerically and compares the result with the analytically computed gradient.\n",
    "\n",
    "We start by implementing the numeric gradient computation in the check_gradient function in gradient_check.py. This function will take as input to the function of the format specified above, use the value `value` to calculate the numerical gradient and compare it with the analytical one - they should converge.\n",
    "\n",
    "Write a part of a function that calculates the gradient using the numerical derivative for each coordinate. To calculate the derivative, use the so-called two-point formula (https://en.wikipedia.org/wiki/Numerical_differentiation):\n",
    "\n",
    "![image](https://wikimedia.org/api/rest_v1/media/math/render/svg/22fc2c0a66c63560a349604f8b6b39221566236d)\n",
    "\n",
    "All functions shown in the next cell must pass the gradient check."
   ]
  },
  {
   "cell_type": "code",
   "execution_count": 4,
   "metadata": {
    "scrolled": true
   },
   "outputs": [
    {
     "name": "stdout",
     "output_type": "stream",
     "text": [
      "Gradient check passed!\n",
      "Gradient check passed!\n",
      "Gradient check passed!\n"
     ]
    },
    {
     "data": {
      "text/plain": [
       "True"
      ]
     },
     "execution_count": 4,
     "metadata": {},
     "output_type": "execute_result"
    }
   ],
   "source": [
    "# TODO: Implement check_gradient function in gradient_check.py\n",
    "# All the functions below should pass the gradient check\n",
    "\n",
    "def square(x):\n",
    "    return float(x*x), 2*x\n",
    "\n",
    "check_gradient(square, np.array([3.0]))\n",
    "\n",
    "def array_sum(x):\n",
    "    assert x.shape == (2,), x.shape\n",
    "    return np.sum(x), np.ones_like(x)\n",
    "\n",
    "check_gradient(array_sum, np.array([3.0, 2.0]))\n",
    "\n",
    "def array_2d_sum(x):\n",
    "    assert x.shape == (2,2)\n",
    "    return np.sum(x), np.ones_like(x)\n",
    "\n",
    "check_gradient(array_2d_sum, np.array([[3.0, 2.0], [1.0, 0.0]]))"
   ]
  },
  {
   "cell_type": "markdown",
   "metadata": {},
   "source": [
    "## Let's start writing our functions that calculate the analytical gradient\n",
    "\n",
    "Now let's implement the softmax function, which receives the estimates for each class as input and converts them into probabilities from 0 to 1:\n",
    "![image](https://wikimedia.org/api/rest_v1/media/math/render/svg/e348290cf48ddbb6e9a6ef4e39363568b67c09d3)\n",
    "\n",
    "** Important: ** The practical aspect of calculating this function is that it calculates the exponent of potentially very large numbers - this can lead to very large values ​​in the numerator and denominator outside the float range.\n",
    "\n",
    "Fortunately, there is a simple solution to this problem - before calculating the softmax, subtract from all estimates the maximum value among all estimates:\n",
    "``,\n",
    "predictions - = np.max (predictions)\n",
    "``,\n",
    "(more details here - http://cs231n.github.io/linear-classify/#softmax, section `Practical issues: Numeric stability`)"
   ]
  },
  {
   "cell_type": "code",
   "execution_count": 5,
   "metadata": {},
   "outputs": [],
   "source": [
    "# TODO Implement softmax and cross-entropy for single sample\n",
    "probs = linear_classifer.softmax(np.array([-10, 0, 10]))\n",
    "\n",
    "# Make sure it works for big numbers too!\n",
    "probs = linear_classifer.softmax(np.array([1000, 0, 0]))\n",
    "assert np.isclose(probs[0], 1.0)"
   ]
  },
  {
   "cell_type": "markdown",
   "metadata": {},
   "source": [
    "In addition, we will implement a cross-entropy loss, which we will use as an error function.\n",
    "In general, cross-entropy is defined as follows:\n",
    "![image](https://wikimedia.org/api/rest_v1/media/math/render/svg/0cb6da032ab424eefdca0884cd4113fe578f4293)\n",
    "\n",
    "where x are all classes, p (x) is the true probability of the sample belonging to the class x, and q (x) is the probability of belonging to the class x, as predicted by the model.\n",
    "In our case, the sample belongs to only one class, the index of which is passed to the function. For it, p (x) is equal to 1, and for the rest of the classes - 0.\n",
    "\n",
    "This makes the function easier to implement!"
   ]
  },
  {
   "cell_type": "code",
   "execution_count": 6,
   "metadata": {},
   "outputs": [
    {
     "data": {
      "text/plain": [
       "5.006760443547122"
      ]
     },
     "execution_count": 6,
     "metadata": {},
     "output_type": "execute_result"
    }
   ],
   "source": [
    "probs = linear_classifer.softmax(np.array([-5, 0, 5]))\n",
    "linear_classifer.cross_entropy_loss(probs, 1)"
   ]
  },
  {
   "cell_type": "markdown",
   "metadata": {},
   "source": [
    "After we have implemented the functions themselves, we can implement the gradient.\n",
    "\n",
    "It turns out that calculating the gradient becomes much easier if you combine these functions into one, which first calculates the probabilities through softmax, and then uses them to calculate the error function through cross-entropy loss.\n",
    "\n",
    "This softmax_with_cross_entropy function will return both the error value and the gradient across the input parameters. We will check the correctness of the implementation with `check_gradient`."
   ]
  },
  {
   "cell_type": "code",
   "execution_count": 7,
   "metadata": {},
   "outputs": [
    {
     "name": "stdout",
     "output_type": "stream",
     "text": [
      "Gradient check passed!\n"
     ]
    },
    {
     "data": {
      "text/plain": [
       "True"
      ]
     },
     "execution_count": 7,
     "metadata": {},
     "output_type": "execute_result"
    }
   ],
   "source": [
    "# TODO Implement combined function or softmax and cross entropy and produces gradient\n",
    "loss, grad = linear_classifer.softmax_with_cross_entropy(np.array([1, 0, 0]), 1)\n",
    "check_gradient(lambda x: linear_classifer.softmax_with_cross_entropy(x, 1), np.array([1, 0, 0], np.float))"
   ]
  },
  {
   "cell_type": "markdown",
   "metadata": {},
   "source": [
    "As a training method, we will use stochastic gradient descent (SGD), which works with sample batches.\n",
    "\n",
    "Therefore, all our functions will receive not one example, but a batch, that is, the input will not be a vector from `num_classes` evaluations, but a matrix of dimensions` batch_size, num_classes`. The index of the example in the batch will always be the first dimension.\n",
    "\n",
    "The next step is to rewrite our functions to support batches.\n",
    "\n",
    "The final value of the error function must remain a number, and it is equal to the average error value among all examples in the batch."
   ]
  },
  {
   "cell_type": "code",
   "execution_count": 13,
   "metadata": {},
   "outputs": [
    {
     "name": "stdout",
     "output_type": "stream",
     "text": [
      "Gradient check passed!\n",
      "Gradient check passed!\n"
     ]
    }
   ],
   "source": [
    "# TODO Extend combined function so it can receive a 2d array with batch of samples\n",
    "np.random.seed(42)\n",
    "# Test batch_size = 1\n",
    "num_classes = 4\n",
    "batch_size = 1\n",
    "predictions = np.random.randint(-1, 3, size=(batch_size, num_classes)).astype(np.float)\n",
    "target_index = np.random.randint(0, num_classes, size=(batch_size, 1)).astype(np.int)\n",
    "check_gradient(lambda x: linear_classifer.softmax_with_cross_entropy(x, target_index), predictions)\n",
    "\n",
    "# Test batch_size = 3\n",
    "num_classes = 4\n",
    "batch_size = 3\n",
    "predictions = np.random.randint(-1, 3, size=(batch_size, num_classes)).astype(np.float)\n",
    "target_index = np.random.randint(0, num_classes, size=(batch_size, 1)).astype(np.int)\n",
    "check_gradient(lambda x: linear_classifer.softmax_with_cross_entropy(x, target_index), predictions)\n",
    "\n",
    "# Make sure maximum subtraction for numberic stability is done separately for every sample in the batch\n",
    "probs = linear_classifer.softmax(np.array([[20,0,0], [1000, 0, 0]]))\n",
    "assert np.all(np.isclose(probs[:, 0], 1.0))"
   ]
  },
  {
   "cell_type": "markdown",
   "metadata": {},
   "source": [
    "### Finally, let's implement the linear classifier itself!\n",
    "\n",
    "softmax and cross-entropy receive estimates as input, which are given by the linear classifier.\n",
    "\n",
    "He makes it very simple: for each class there is a set of weights by which the pixels of the picture must be multiplied and added. The resulting number is the class estimate that goes to the softmax input.\n",
    "\n",
    "Thus, a linear classifier can be represented as the multiplication of a vector with pixels by a matrix W of size `num_features, num_classes`. This approach can be easily extended to the case of batch vectors with X pixels of size `batch_size, num_features`:\n",
    "\n",
    "`predictions = X * W`, where` * `is matrix multiplication.\n",
    "\n",
    "Implement the `linear_softmax` function for calculating the linear classifier and weighted gradients in the file` linear_classifer.py`"
   ]
  },
  {
   "cell_type": "code",
   "execution_count": null,
   "metadata": {},
   "outputs": [],
   "source": [
    "# TODO Implement linear_softmax function that uses softmax with cross-entropy for linear classifier\n",
    "batch_size = 2\n",
    "num_classes = 2\n",
    "num_features = 3\n",
    "np.random.seed(42)\n",
    "W = np.random.randint(-1, 3, size=(num_features, num_classes)).astype(np.float)\n",
    "X = np.random.randint(-1, 3, size=(batch_size, num_features)).astype(np.float)\n",
    "target_index = np.ones(batch_size, dtype=np.int)\n",
    "\n",
    "loss, dW = linear_classifer.linear_softmax(X, W, target_index)\n",
    "check_gradient(lambda w: linear_classifer.linear_softmax(X, w, target_index), W)"
   ]
  },
  {
   "cell_type": "markdown",
   "metadata": {},
   "source": [
    "### And now regularization\n",
    "\n",
    "We will use L2 regularization for the weights as part of the overall error function.\n",
    "\n",
    "Recall that L2 regularization is defined as\n",
    "\n",
    "l2_reg_loss = regularization_strength * sum <sub> ij </sub> W [i, j] <sup> 2 </sup>\n",
    "\n",
    "Implement a function to compute it and compute the appropriate gradients."
   ]
  },
  {
   "cell_type": "code",
   "execution_count": null,
   "metadata": {},
   "outputs": [],
   "source": [
    "# TODO Implement l2_regularization function that implements loss for L2 regularization\n",
    "linear_classifer.l2_regularization(W, 0.01)\n",
    "check_gradient(lambda w: linear_classifer.l2_regularization(w, 0.01), W)"
   ]
  },
  {
   "cell_type": "markdown",
   "metadata": {},
   "source": [
    "# Workout!"
   ]
  },
  {
   "cell_type": "markdown",
   "metadata": {},
   "source": [
    "The gradients are in order, let's implement the training process!"
   ]
  },
  {
   "cell_type": "code",
   "execution_count": 15,
   "metadata": {},
   "outputs": [
    {
     "name": "stdout",
     "output_type": "stream",
     "text": [
      "Epoch 0, loss: 690.943551\n",
      "Epoch 1, loss: 693.373792\n",
      "Epoch 2, loss: 698.226843\n",
      "Epoch 3, loss: 710.100649\n",
      "Epoch 4, loss: 731.609369\n",
      "Epoch 5, loss: 726.313037\n",
      "Epoch 6, loss: 694.900692\n",
      "Epoch 7, loss: 698.534629\n",
      "Epoch 8, loss: 735.988923\n",
      "Epoch 9, loss: 863.477629\n"
     ]
    }
   ],
   "source": [
    "# TODO: Implement LinearSoftmaxClassifier.fit function\n",
    "classifier = linear_classifer.LinearSoftmaxClassifier()\n",
    "loss_history = classifier.fit(train_X, train_y, epochs=10, learning_rate=1e-3, batch_size=300, reg=1e1, verbose=1)"
   ]
  },
  {
   "cell_type": "code",
   "execution_count": 16,
   "metadata": {},
   "outputs": [
    {
     "data": {
      "text/plain": [
       "[<matplotlib.lines.Line2D at 0x7faf70226a90>]"
      ]
     },
     "execution_count": 16,
     "metadata": {},
     "output_type": "execute_result"
    },
    {
     "data": {
      "image/png": "[encoded data removed]",
      "text/plain": [
       "<Figure size 432x288 with 1 Axes>"
      ]
     },
     "metadata": {
      "needs_background": "light"
     },
     "output_type": "display_data"
    }
   ],
   "source": [
    "# let's look at the loss history!\n",
    "plt.plot(loss_history)"
   ]
  },
  {
   "cell_type": "code",
   "execution_count": 17,
   "metadata": {},
   "outputs": [
    {
     "name": "stdout",
     "output_type": "stream",
     "text": [
      "Accuracy:  0.174\n",
      "Epoch 0, loss: 1031.139383\n",
      "Epoch 1, loss: 945.327292\n",
      "Epoch 2, loss: 863.726130\n",
      "Epoch 3, loss: 790.398515\n",
      "Epoch 4, loss: 800.739888\n",
      "Epoch 5, loss: 828.424649\n",
      "Epoch 6, loss: 844.315473\n",
      "Epoch 7, loss: 974.271887\n",
      "Epoch 8, loss: 1227.257195\n",
      "Epoch 9, loss: 925.433242\n",
      "Epoch 10, loss: 875.769430\n",
      "Epoch 11, loss: 856.052930\n",
      "Epoch 12, loss: 860.953838\n",
      "Epoch 13, loss: 966.202926\n",
      "Epoch 14, loss: 944.431469\n",
      "Epoch 15, loss: 928.468270\n",
      "Epoch 16, loss: 959.232064\n",
      "Epoch 17, loss: 834.101602\n",
      "Epoch 18, loss: 882.539415\n",
      "Epoch 19, loss: 784.876810\n",
      "Epoch 20, loss: 789.049053\n",
      "Epoch 21, loss: 836.410814\n",
      "Epoch 22, loss: 902.569467\n",
      "Epoch 23, loss: 890.324590\n",
      "Epoch 24, loss: 904.373794\n",
      "Epoch 25, loss: 874.351318\n",
      "Epoch 26, loss: 891.956755\n",
      "Epoch 27, loss: 903.641284\n",
      "Epoch 28, loss: 835.182969\n",
      "Epoch 29, loss: 869.505030\n",
      "Epoch 30, loss: 986.116471\n",
      "Epoch 31, loss: 879.367738\n",
      "Epoch 32, loss: 883.441225\n",
      "Epoch 33, loss: 799.796120\n",
      "Epoch 34, loss: 816.073095\n",
      "Epoch 35, loss: 852.780820\n",
      "Epoch 36, loss: 817.145529\n",
      "Epoch 37, loss: 760.853521\n",
      "Epoch 38, loss: 739.612540\n",
      "Epoch 39, loss: 798.091385\n",
      "Epoch 40, loss: 831.494145\n",
      "Epoch 41, loss: 889.129848\n",
      "Epoch 42, loss: 998.461285\n",
      "Epoch 43, loss: 708.671934\n",
      "Epoch 44, loss: 751.001477\n",
      "Epoch 45, loss: 836.834885\n",
      "Epoch 46, loss: 981.983063\n",
      "Epoch 47, loss: 866.221175\n",
      "Epoch 48, loss: 835.211715\n",
      "Epoch 49, loss: 902.735122\n",
      "Epoch 50, loss: 914.356901\n",
      "Epoch 51, loss: 922.409650\n",
      "Epoch 52, loss: 924.576326\n",
      "Epoch 53, loss: 858.808102\n",
      "Epoch 54, loss: 1031.998083\n",
      "Epoch 55, loss: 1142.874335\n",
      "Epoch 56, loss: 981.940845\n",
      "Epoch 57, loss: 1061.504874\n",
      "Epoch 58, loss: 887.694476\n",
      "Epoch 59, loss: 958.912114\n",
      "Epoch 60, loss: 955.545572\n",
      "Epoch 61, loss: 953.830226\n",
      "Epoch 62, loss: 936.644674\n",
      "Epoch 63, loss: 854.407824\n",
      "Epoch 64, loss: 817.538950\n",
      "Epoch 65, loss: 820.810869\n",
      "Epoch 66, loss: 869.147733\n",
      "Epoch 67, loss: 889.870811\n",
      "Epoch 68, loss: 957.962453\n",
      "Epoch 69, loss: 938.300025\n",
      "Epoch 70, loss: 936.256749\n",
      "Epoch 71, loss: 949.808068\n",
      "Epoch 72, loss: 934.800535\n",
      "Epoch 73, loss: 807.955123\n",
      "Epoch 74, loss: 862.943189\n",
      "Epoch 75, loss: 821.189340\n",
      "Epoch 76, loss: 896.763339\n",
      "Epoch 77, loss: 822.607385\n",
      "Epoch 78, loss: 910.496796\n",
      "Epoch 79, loss: 942.336810\n",
      "Epoch 80, loss: 956.228826\n",
      "Epoch 81, loss: 791.203740\n",
      "Epoch 82, loss: 865.476030\n",
      "Epoch 83, loss: 746.529269\n",
      "Epoch 84, loss: 771.339761\n",
      "Epoch 85, loss: 767.652794\n",
      "Epoch 86, loss: 810.854731\n",
      "Epoch 87, loss: 794.534251\n",
      "Epoch 88, loss: 759.368211\n",
      "Epoch 89, loss: 779.955213\n",
      "Epoch 90, loss: 873.892573\n",
      "Epoch 91, loss: 889.845780\n",
      "Epoch 92, loss: 934.981517\n",
      "Epoch 93, loss: 797.276878\n",
      "Epoch 94, loss: 823.293179\n",
      "Epoch 95, loss: 950.696686\n",
      "Epoch 96, loss: 813.788674\n",
      "Epoch 97, loss: 786.001586\n",
      "Epoch 98, loss: 774.352293\n",
      "Epoch 99, loss: 759.106667\n",
      "Accuracy after training for 100 epochs:  0.163\n"
     ]
    }
   ],
   "source": [
    "# Let's check how it performs on validation set\n",
    "pred = classifier.predict(val_X)\n",
    "accuracy = multiclass_accuracy(pred, val_y)\n",
    "print(\"Accuracy: \", accuracy)\n",
    "\n",
    "# Now, let's train more and see if it performs better\n",
    "classifier.fit(train_X, train_y, epochs=100, learning_rate=1e-3, batch_size=300, reg=1e1, verbose=1)\n",
    "pred = classifier.predict(val_X)\n",
    "accuracy = multiclass_accuracy(pred, val_y)\n",
    "print(\"Accuracy after training for 100 epochs: \", accuracy)"
   ]
  },
  {
   "cell_type": "markdown",
   "metadata": {},
   "source": [
    "### As before, we use cross-validation to find hyperparameters.\n",
    "\n",
    "This time, we will only use one division of training and validation data to keep the training time reasonable.\n",
    "\n",
    "Now we need to select not one, but two hyperparameters! Don't limit yourself to the original values in the code.\n",
    "Achieve more than ** 20% ** accuracy on validation data."
   ]
  },
  {
   "cell_type": "code",
   "execution_count": 18,
   "metadata": {},
   "outputs": [
    {
     "name": "stdout",
     "output_type": "stream",
     "text": [
      "best validation accuracy achieved: 0.242000\n"
     ]
    }
   ],
   "source": [
    "num_epochs = 200\n",
    "batch_size = 300\n",
    "\n",
    "learning_rates = [1e-3, 1e-4, 1e-5]\n",
    "reg_strengths = [1e-4, 1e-5, 1e-6]\n",
    "\n",
    "best_classifier = None\n",
    "best_val_accuracy = 0.0\n",
    "\n",
    "# TODO use validation set to find the best hyperparameters\n",
    "# hint: for best results, you might need to try more values for learning rate and regularization strength \n",
    "# than provided initially\n",
    "\n",
    "for learning_rate in learning_rates:\n",
    "    for reg in reg_strengths:\n",
    "        classifier = linear_classifer.LinearSoftmaxClassifier()\n",
    "        classifier.fit(train_X, train_y, epochs=num_epochs,\n",
    "                       learning_rate=learning_rate, batch_size=batch_size, reg=reg)\n",
    "        pred = classifier.predict(val_X)\n",
    "        accuracy = multiclass_accuracy(pred, val_y)\n",
    "        if accuracy > best_val_accuracy:\n",
    "            best_val_accuracy = accuracy\n",
    "            best_classifier = classifier        \n",
    "\n",
    "print('best validation accuracy achieved: %f' % best_val_accuracy)"
   ]
  },
  {
   "cell_type": "markdown",
   "metadata": {},
   "source": [
    "# What accuracy did we achieve on the test data?"
   ]
  },
  {
   "cell_type": "code",
   "execution_count": 19,
   "metadata": {},
   "outputs": [
    {
     "name": "stdout",
     "output_type": "stream",
     "text": [
      "Linear softmax classifier test set accuracy: 0.184000\n"
     ]
    }
   ],
   "source": [
    "test_pred = best_classifier.predict(test_X)\n",
    "test_accuracy = multiclass_accuracy(test_pred, test_y)\n",
    "print('Linear softmax classifier test set accuracy: %f' % (test_accuracy, ))"
   ]
  },
  {
   "cell_type": "code",
   "execution_count": null,
   "metadata": {},
   "outputs": [],
   "source": []
  }
 ],
 "metadata": {
  "kernelspec": {
   "display_name": "Python 3",
   "language": "python",
   "name": "python3"
  },
  "language_info": {
   "codemirror_mode": {
    "name": "ipython",
    "version": 3
   },
   "file_extension": ".py",
   "mimetype": "text/x-python",
   "name": "python",
   "nbconvert_exporter": "python",
   "pygments_lexer": "ipython3",
   "version": "3.9.4"
  }
 },
 "nbformat": 4,
 "nbformat_minor": 4
}
